{
 "cells": [
  {
   "cell_type": "code",
   "execution_count": 1,
   "metadata": {},
   "outputs": [
    {
     "ename": "ImportError",
     "evalue": "cannot import name 'ConvergenceWarning'",
     "output_type": "error",
     "traceback": [
      "\u001b[1;31m---------------------------------------------------------------------------\u001b[0m",
      "\u001b[1;31mImportError\u001b[0m                               Traceback (most recent call last)",
      "\u001b[1;32m<ipython-input-1-14d02aa67751>\u001b[0m in \u001b[0;36m<module>\u001b[1;34m\u001b[0m\n\u001b[0;32m      1\u001b[0m \u001b[1;32mimport\u001b[0m \u001b[0mpandas\u001b[0m \u001b[1;32mas\u001b[0m \u001b[0mpd\u001b[0m\u001b[1;33m\u001b[0m\u001b[1;33m\u001b[0m\u001b[0m\n\u001b[0;32m      2\u001b[0m \u001b[1;32mimport\u001b[0m \u001b[0mwarnings\u001b[0m\u001b[1;33m\u001b[0m\u001b[1;33m\u001b[0m\u001b[0m\n\u001b[1;32m----> 3\u001b[1;33m \u001b[1;32mfrom\u001b[0m \u001b[0msklearn\u001b[0m\u001b[1;33m.\u001b[0m\u001b[0mutils\u001b[0m \u001b[1;32mimport\u001b[0m \u001b[0mConvergenceWarning\u001b[0m\u001b[1;33m\u001b[0m\u001b[1;33m\u001b[0m\u001b[0m\n\u001b[0m\u001b[0;32m      4\u001b[0m \u001b[1;32mimport\u001b[0m \u001b[0mnumpy\u001b[0m \u001b[1;32mas\u001b[0m \u001b[0mnp\u001b[0m\u001b[1;33m\u001b[0m\u001b[1;33m\u001b[0m\u001b[0m\n\u001b[0;32m      5\u001b[0m \u001b[1;32mimport\u001b[0m \u001b[0mrequests\u001b[0m\u001b[1;33m\u001b[0m\u001b[1;33m\u001b[0m\u001b[0m\n",
      "\u001b[1;31mImportError\u001b[0m: cannot import name 'ConvergenceWarning'"
     ]
    }
   ],
   "source": [
    "import pandas as pd\n",
    "import warnings\n",
    "from sklearn.utils import ConvergenceWarning\n",
    "import numpy as np\n",
    "import requests\n",
    "import re\n",
    "import os\n",
    "import glob\n",
    "import csv\n",
    "import numpy as np\n",
    "import scipy, scipy.stats\n",
    "import sklearn\n",
    "from sklearn import *\n",
    "#lm=linear_model.LinearRegression()\n",
    "import statsmodels.formula.api as sm\n",
    "import matplotlib.pyplot as plt\n",
    "import math\n",
    "#%matplotlib inline\n",
    "from numpy import genfromtxt\n",
    "from sklearn import datasets, linear_model\n",
    "from sklearn.ensemble import RandomForestRegressor\n",
    "#from sklearn.neural_network import MLPRegressor\n",
    "from sklearn.metrics import mean_absolute_error\n",
    "from sklearn.metrics import mean_squared_error\n",
    "import seaborn as sns\n",
    "from sklearn.neural_network import MLPRegressor\n",
    "from sklearn.neural_network import MLPClassifier\n",
    "from  sklearn.metrics import confusion_matrix,median_absolute_error\n",
    "from sklearn.metrics import roc_curve, auc"
   ]
  },
  {
   "cell_type": "code",
   "execution_count": null,
   "metadata": {},
   "outputs": [],
   "source": [
    "homedir = os.path.expanduser(\"~\")\n",
    "path_to_midterm = homedir+\"\\\\midterm\"\n",
    "print(\"Path: \",path_to_midterm)"
   ]
  },
  {
   "cell_type": "code",
   "execution_count": null,
   "metadata": {},
   "outputs": [],
   "source": [
    "def fillNAN(df):\n",
    "    df['fico'] = df['fico'].fillna(0)\n",
    "    df['flag_fthb']=df['flag_fthb'].fillna('X')\n",
    "    df['cd_msa']=df['cd_msa'].fillna(0)\n",
    "    df['mi_pct']=df['mi_pct'].fillna(0)\n",
    "    df['cnt_units']=df['cnt_units'].fillna(0)\n",
    "    df['occpy_sts']=df['occpy_sts'].fillna('X')\n",
    "    df['cltv']=df['cltv'].fillna(0)\n",
    "    df['dti']=df['dti'].fillna(0)\n",
    "    df['ltv']=df['ltv'].fillna(0)\n",
    "    df['channel']=df['channel'].fillna('X')\n",
    "    df['ppmt_pnlty']=df['ppmt_pnlty'].fillna('X')\n",
    "    df['prop_type']=df['prop_type'].fillna('XX')\n",
    "    df['zipcode']=df['zipcode'].fillna(0)\n",
    "    df['loan_purpose']=df['loan_purpose'].fillna('X')\n",
    "    df['cnt_borr']=df['cnt_borr'].fillna(0)\n",
    "    df['flag_sc']=df['flag_sc'].fillna('N')\n",
    "    return df"
   ]
  },
  {
   "cell_type": "code",
   "execution_count": null,
   "metadata": {},
   "outputs": [],
   "source": [
    "def changedatatype(df):\n",
    "    #Change the data types for all column\n",
    "    df[['fico','cd_msa','mi_pct','cnt_borr','cnt_units','cltv','dti','orig_upb','ltv','zipcode','orig_loan_term']] = df[['fico','cd_msa','mi_pct','cnt_borr','cnt_units','cltv','dti','orig_upb','ltv','zipcode','orig_loan_term']].astype('int64')\n",
    "    df[['flag_sc','servicer_name']] = df[['flag_sc','servicer_name']].astype('str')\n",
    "    return df"
   ]
  },
  {
   "cell_type": "code",
   "execution_count": null,
   "metadata": {},
   "outputs": [],
   "source": [
    "'''\n",
    "This function combines all the quarter and year data in single file\n",
    "and preprocesses it\n",
    "'''\n",
    "dir_name = path_to_midterm+\"\\\\\"+\"Data\\\\\"+\"historical_data\"\n",
    "def constructcsv(filename):\n",
    "    writeHeader1 = True\n",
    "    with open(filename, 'w',encoding='utf-8',newline=\"\") as f:\n",
    "        for subdir,dirs, files in os.walk(dir_name):\n",
    "            for file in files:\n",
    "                if 'time' not in file:\n",
    "                    sample_df = pd.read_csv(os.path.join(subdir,file) ,sep=\"|\",names=['fico','dt_first_pi','flag_fthb','dt_matr','cd_msa',\"mi_pct\",'cnt_units','occpy_sts','cltv','dti','orig_upb','ltv','int_rt','channel','ppmt_pnlty','prod_type','st', 'prop_type','zipcode','id_loan','loan_purpose', 'orig_loan_term','cnt_borr','seller_name','servicer_name','flag_sc'],skipinitialspace=True)\n",
    "                    sample_df = fillNAN(sample_df)\n",
    "                    sample_df = changedatatype(sample_df)\n",
    "                    sample_df['Year'] = ['19'+x if x=='99' else '20'+x for x in (sample_df['id_loan'].apply(lambda x: x[2:4]))]\n",
    "                    sample_df['Quater'] =sample_df['id_loan'].apply(lambda x: x[4:6])\n",
    "                    if writeHeader1 is True:\n",
    "                        sample_df.to_csv(f, mode='a', header=True,index=False)\n",
    "                        writeHeader1 = False\n",
    "                    else:\n",
    "                        sample_df.to_csv(f, mode='a', header=False,index=False)\n",
    "    \n",
    "constructcsv('HistoricalOriginationCombined.csv')"
   ]
  },
  {
   "cell_type": "code",
   "execution_count": null,
   "metadata": {},
   "outputs": [],
   "source": [
    "def create_dumies(df):\n",
    "    dummies = pd.get_dummies(df['flag_fthb']).rename(columns=lambda x: 'flag_fthb_' + str(x)) \n",
    "    train_df=pd.concat([df, dummies], axis=1) \n",
    "    dummies1 = pd.get_dummies(df['occpy_sts']).rename(columns=lambda x: 'occpy_sts_' + str(x)) \n",
    "    train_df=pd.concat([train_df, dummies1], axis=1) \n",
    "    dummies2 = pd.get_dummies(df['channel']).rename(columns=lambda x: 'channel_' + str(x)) \n",
    "    train_df=pd.concat([train_df, dummies2], axis=1) \n",
    "    dummies3 = pd.get_dummies(df['ppmt_pnlty']).rename(columns=lambda x: 'ppmt_pnlty_' + str(x)) \n",
    "    train_df=pd.concat([train_df, dummies3], axis=1) \n",
    "    dummies4 = pd.get_dummies(df['prop_type']).rename(columns=lambda x: 'prop_type_' + str(x)) \n",
    "    train_df=pd.concat([train_df, dummies4], axis=1) \n",
    "    dummies5 = pd.get_dummies(df['loan_purpose']).rename(columns=lambda x: 'loan_purpose_' + str(x)) \n",
    "    train_df=pd.concat([train_df, dummies5], axis=1) \n",
    "    dummies6 = pd.get_dummies(df['seller_name']).rename(columns=lambda x: 'seller_name_' + str(x)) \n",
    "    train_df=pd.concat([train_df, dummies6], axis=1) \n",
    "    train_df['flag_sc']=train_df['flag_sc'].map({'Y':1,'N':0}) \n",
    "    return train_df"
   ]
  },
  {
   "cell_type": "code",
   "execution_count": null,
   "metadata": {},
   "outputs": [],
   "source": [
    "def changedatatype(df):\n",
    "    #Change the data types for all column\n",
    "    df[['fico','cd_msa','mi_pct','cnt_borr','cnt_units','cltv','dti','orig_upb','ltv','zipcode','orig_loan_term']] = df[['fico','cd_msa','mi_pct','cnt_borr','cnt_units','cltv','dti','orig_upb','ltv','zipcode','orig_loan_term']].astype('int64')\n",
    "    df[['flag_sc','servicer_name','seller_name']] = df[['flag_sc','servicer_name','seller_name']].astype('str')\n",
    "    return df"
   ]
  },
  {
   "cell_type": "code",
   "execution_count": null,
   "metadata": {},
   "outputs": [],
   "source": [
    "def splitting(df,label):\n",
    "    df_features = df.ix[:, df.columns != label]\n",
    "    df_target = df.ix[:, df.columns == label]\n",
    "    return df_features,df_target"
   ]
  },
  {
   "cell_type": "code",
   "execution_count": null,
   "metadata": {},
   "outputs": [],
   "source": [
    "def preprocessing(filename):\n",
    "    for subdir,dirs, files in os.walk(path_to_midterm):\n",
    "        for file in files:\n",
    "            #print(file,\" \",filename)\n",
    "            if filename == file: \n",
    "                hist_df = pd.read_csv(os.path.join(subdir,filename))\n",
    "                hist_df=changedatatype(hist_df)\n",
    "                hist_df=create_dumies(hist_df)\n",
    "                Hist_numaric=hist_df\n",
    "                Hist_numaric.drop('cd_msa',axis=1,inplace=True) \n",
    "                Hist_numaric.drop('flag_sc',axis=1,inplace=True) \n",
    "                Hist_numaric.drop('zipcode',axis=1,inplace=True)\n",
    "                Hist_numaric.drop('prod_type',axis=1,inplace=True) #same values\n",
    "                Hist_numaric.drop('id_loan',axis=1,inplace=True) #unique identifier\n",
    "    return Hist_numaric\n",
    "\n",
    "Hist_numaric = preprocessing('HistoricalOriginationCombined.csv')"
   ]
  },
  {
   "cell_type": "code",
   "execution_count": null,
   "metadata": {},
   "outputs": [],
   "source": [
    "def dataSplit(Hist_numaric,label,year,Q1,Q2):\n",
    "    Hist_numeric_2005_Q1 = Hist_numaric[(Hist_numaric['Year']==year) & (Hist_numaric['Quater']==Q1)]\n",
    "    Hist_numeric_2005_Q1=Hist_numeric_2005_Q1._get_numeric_data()\n",
    "\n",
    "    Hist_numeric_2005_Q2 = Hist_numaric[(Hist_numaric['Year']==year) & (Hist_numaric['Quater']==Q2)]\n",
    "    Hist_numeric_2005_Q2=Hist_numeric_2005_Q2._get_numeric_data()\n",
    "    Hist_numeric_2005_Q1_features,Hist_numeric_2005_Q1_target = splitting(Hist_numeric_2005_Q1,label)\n",
    "    Hist_numeric_2005_Q2_features,Hist_numeric_2005_Q2_target = splitting(Hist_numeric_2005_Q2,label)\n",
    "    return Hist_numeric_2005_Q1_features,Hist_numeric_2005_Q1_target, Hist_numeric_2005_Q2_features,Hist_numeric_2005_Q2_target"
   ]
  },
  {
   "cell_type": "code",
   "execution_count": null,
   "metadata": {},
   "outputs": [],
   "source": [
    "year = int(input(\"Enter the year:\"))\n",
    "Q1   = input(\"Enter the traning quarter\")\n",
    "Q2   = input(\"Enter the testing quarter\")\n",
    "Hist_numeric_2005_Q1_features,Hist_numeric_2005_Q1_target, Hist_numeric_2005_Q2_features,\\\n",
    "Hist_numeric_2005_Q2_target = dataSplit(Hist_numaric,'int_rt',year,Q1,Q2)\n"
   ]
  },
  {
   "cell_type": "code",
   "execution_count": null,
   "metadata": {},
   "outputs": [],
   "source": [
    "def featureSelectionKSelect(selector,data):\n",
    "    decision = selector.get_support()\n",
    "    important_feature = []\n",
    "    columns = list(data)\n",
    "    iter=0\n",
    "    for col in columns:\n",
    "        if decision[iter]:\n",
    "            print(col)\n",
    "            important_feature.append(col)\n",
    "        iter+=1\n",
    "    data = data[important_feature]\n",
    "    return data"
   ]
  },
  {
   "cell_type": "code",
   "execution_count": null,
   "metadata": {},
   "outputs": [],
   "source": [
    "def featureSelectionRFE(selector,data):\n",
    "    decision = selector.support_\n",
    "    important_feature = []\n",
    "    columns = list(data)\n",
    "    iter=0\n",
    "    for col in columns:\n",
    "        if decision[iter]:\n",
    "            print(col)\n",
    "            important_feature.append(col)\n",
    "        iter+=1\n",
    "    data_new = data.filter(important_feature,axis=1)\n",
    "    return data_new"
   ]
  },
  {
   "cell_type": "code",
   "execution_count": null,
   "metadata": {},
   "outputs": [],
   "source": [
    "from sklearn.model_selection import StratifiedKFold\n",
    "from sklearn.feature_selection import RFE\n",
    "\n",
    "def linear_regressor(training_feature,traning_label,testing_feature,testing_label):\n",
    "    #Traning the linear regression model\n",
    "    regr = linear_model.LinearRegression(fit_intercept=True)\n",
    "    selector = RFE(regr, 5, step=1)\n",
    "    selector.fit(training_feature, traning_label)\n",
    "    regr.fit(training_feature, traning_label)\n",
    "\n",
    "    # The coefficients\n",
    "    print('Coefficients: \\n', regr.coef_)\n",
    "    # Testing the test data and finding the mean squared error\n",
    "    actual_testing_label = regr.predict(testing_feature)\n",
    "    actual_traning_label = regr.predict(training_feature)\n",
    "    #print(\"Mean squared error:\",np.mean(( actual_testing_label- testing_label) ** 2))\n",
    "    MAE=mean_absolute_error(actual_testing_label,testing_label)\n",
    "    print(\"MAE:\",MAE)\n",
    "    RMS=math.sqrt(mean_squared_error(actual_testing_label,testing_label))\n",
    "    print(\"RMS:\",RMS)\n",
    "    #MAPE=mean_absolute_error(actual_testing_label,testing_label)*100\n",
    "    MAPE=np.sum(np.absolute(actual_testing_label-testing_label)/np.absolute(testing_label))/testing_label.size*100\n",
    "    print(\"MAPE:\",MAPE)\n",
    "    plt.scatter(actual_traning_label, traning_label, c=\"blue\",alpha=0.5,  label=\"Training data\")\n",
    "    plt.scatter(actual_testing_label, testing_label, c=\"lightgreen\",alpha=0.5, label=\"Validation data\")\n",
    "    plt.plot([4.7,7],[4.7,7], c = \"red\")\n",
    "    plt.title(\"Linear regression with Ridge regularization\")\n",
    "    plt.xlabel(\"Predicted values\")\n",
    "    plt.ylabel(\"Real values\")\n",
    "    plt.legend(loc=\"upper left\")\n",
    "    plt.show()\n"
   ]
  },
  {
   "cell_type": "code",
   "execution_count": null,
   "metadata": {
    "scrolled": false
   },
   "outputs": [],
   "source": [
    "linear_regressor(Hist_numeric_2005_Q1_features.values,Hist_numeric_2005_Q1_target.values,\n",
    "                 Hist_numeric_2005_Q2_features.values,Hist_numeric_2005_Q2_target.values)"
   ]
  },
  {
   "cell_type": "code",
   "execution_count": 2,
   "metadata": {},
   "outputs": [],
   "source": [
    "def mape(actual_testing_label,testing_label):\n",
    "    sum=0\n",
    "    for iter in range(testing_label.size):\n",
    "        sum+=math.fabs(testing_label-actual_testing_label)/math.fabs(testing_label)\n",
    "    ans = sum/testing_label.size*100\n",
    "    return ans"
   ]
  },
  {
   "cell_type": "code",
   "execution_count": 3,
   "metadata": {},
   "outputs": [],
   "source": [
    "def random_forest(training_feature, traning_label, testing_feature, testing_label):\n",
    "    regr = RandomForestRegressor(n_estimators=70, min_samples_split=2, max_depth=10)\n",
    "    regr.fit(training_feature,traning_label)\n",
    "    # The coefficients\n",
    "    #print('Coefficients: \\n', regr.coef_)\n",
    "    # Testing the test data and finding the mean squared error\n",
    "    actual_testing_label = regr.predict(testing_feature)\n",
    "    actual_traning_label = regr.predict(training_feature)\n",
    "    # print(\"Mean squared error:\", np.mean(actual_testing_label - testing_label) ** 2)\n",
    "    MAE=mean_absolute_error(actual_testing_label,testing_label)\n",
    "    print(\"MAE:\",MAE)\n",
    "    RMS=math.sqrt(mean_squared_error(actual_testing_label,testing_label))\n",
    "    print(\"RMS:\",RMS)\n",
    "    #MAPE=mape(actual_testing_label,testing_label)\n",
    "    MAPE=median_absolute_error(actual_testing_label,testing_label)*10\n",
    "    print(\"MAPE:\",MAPE)\n",
    "    plt.scatter(actual_traning_label, traning_label, c=\"blue\", marker=\"s\", label=\"Training data\")\n",
    "    plt.scatter(actual_testing_label, testing_label, c=\"lightgreen\", marker=\"s\", label=\"Validation data\")\n",
    "    plt.title(\"Linear regression with Ridge regularization\")\n",
    "    plt.xlabel(\"Predicted values\")\n",
    "    plt.ylabel(\"Real values\")\n",
    "    plt.legend(loc=\"upper left\")\n",
    "    plt.show()\n",
    "    return MAE,RMS,MAPE"
   ]
  },
  {
   "cell_type": "code",
   "execution_count": 4,
   "metadata": {},
   "outputs": [
    {
     "ename": "NameError",
     "evalue": "name 'Hist_numeric_2005_Q1_features' is not defined",
     "output_type": "error",
     "traceback": [
      "\u001b[1;31m---------------------------------------------------------------------------\u001b[0m",
      "\u001b[1;31mNameError\u001b[0m                                 Traceback (most recent call last)",
      "\u001b[1;32m<ipython-input-4-30fc0484745c>\u001b[0m in \u001b[0;36m<module>\u001b[1;34m\u001b[0m\n\u001b[1;32m----> 1\u001b[1;33m random_forest(Hist_numeric_2005_Q1_features.values,Hist_numeric_2005_Q1_target.values,\n\u001b[0m\u001b[0;32m      2\u001b[0m               Hist_numeric_2005_Q2_features.values,Hist_numeric_2005_Q2_target.values)\n",
      "\u001b[1;31mNameError\u001b[0m: name 'Hist_numeric_2005_Q1_features' is not defined"
     ]
    }
   ],
   "source": [
    "random_forest(Hist_numeric_2005_Q1_features.values,Hist_numeric_2005_Q1_target.values,\n",
    "              Hist_numeric_2005_Q2_features.values,Hist_numeric_2005_Q2_target.values)"
   ]
  },
  {
   "cell_type": "code",
   "execution_count": 5,
   "metadata": {},
   "outputs": [
    {
     "ename": "NameError",
     "evalue": "name 'Hist_numeric_2005_Q1_features' is not defined",
     "output_type": "error",
     "traceback": [
      "\u001b[1;31m---------------------------------------------------------------------------\u001b[0m",
      "\u001b[1;31mNameError\u001b[0m                                 Traceback (most recent call last)",
      "\u001b[1;32m<ipython-input-5-f454140512a5>\u001b[0m in \u001b[0;36m<module>\u001b[1;34m\u001b[0m\n\u001b[0;32m     25\u001b[0m \u001b[1;33m\u001b[0m\u001b[0m\n\u001b[0;32m     26\u001b[0m \u001b[1;33m\u001b[0m\u001b[0m\n\u001b[1;32m---> 27\u001b[1;33m \u001b[0mNeural_network\u001b[0m\u001b[1;33m(\u001b[0m\u001b[0mHist_numeric_2005_Q1_features\u001b[0m\u001b[1;33m,\u001b[0m\u001b[0mHist_numeric_2005_Q1_target\u001b[0m\u001b[1;33m,\u001b[0m\u001b[0mHist_numeric_2005_Q2_features\u001b[0m\u001b[1;33m,\u001b[0m\u001b[0mHist_numeric_2005_Q2_target\u001b[0m\u001b[1;33m)\u001b[0m\u001b[1;33m\u001b[0m\u001b[1;33m\u001b[0m\u001b[0m\n\u001b[0m\u001b[0;32m     28\u001b[0m \u001b[1;33m\u001b[0m\u001b[0m\n",
      "\u001b[1;31mNameError\u001b[0m: name 'Hist_numeric_2005_Q1_features' is not defined"
     ]
    }
   ],
   "source": [
    "'''\n",
    "This is a neural network model designed to predict the interest rate of the \n",
    "data\n",
    "'''\n",
    "def Neural_network(training_feature, traning_label, testing_feature, testing_label):\n",
    "    regr = MLPRegressor(hidden_layer_sizes=(2, ), activation='logistic', solver='adam', alpha=0.00001, batch_size='auto',\n",
    "                        learning_rate='constant', learning_rate_init=0.001, power_t=0.5, max_iter=200, shuffle=True,\n",
    "                        random_state=None, tol=0.0001, verbose=False, warm_start=False, momentum=0.9,\n",
    "                        nesterovs_momentum=True, early_stopping=False, validation_fraction=0.1, beta_1=0.9,\n",
    "                        beta_2=0.999, epsilon=1e-08)\n",
    "\n",
    "    regr.fit(training_feature, traning_label)\n",
    "    # The coefficients\n",
    "    # print('Coefficients: \\n', regr.coef_)\n",
    "    # Testing the test data and finding the mean squared error\n",
    "    actual_testing_label = regr.predict(testing_feature)\n",
    "    actual_traning_label = regr.predict(training_feature)\n",
    "    MAE=mean_absolute_error(actual_testing_label,testing_label)\n",
    "    print(\"MAE:\",MAE)\n",
    "    RMS=math.sqrt(mean_squared_error(actual_testing_label,testing_label))\n",
    "    print(\"RMS:\",RMS)\n",
    "    MAPE=mean_absolute_error(actual_testing_label,testing_label)*100\n",
    "    #MAPE=np.sum(np.absolute(actual_testing_label-testing_label)/np.absolute(testing_label))/testing_label.size*100\n",
    "    print(\"MAPE:\",MAPE)\n",
    "\n",
    "\n",
    "Neural_network(Hist_numeric_2005_Q1_features,Hist_numeric_2005_Q1_target,Hist_numeric_2005_Q2_features,Hist_numeric_2005_Q2_target)\n",
    "\n"
   ]
  },
  {
   "cell_type": "code",
   "execution_count": 6,
   "metadata": {},
   "outputs": [],
   "source": [
    "newDF = pd.DataFrame(columns=['Quarter','MAE','RMS','MAPE'])"
   ]
  },
  {
   "cell_type": "code",
   "execution_count": 29,
   "metadata": {
    "collapsed": true
   },
   "outputs": [],
   "source": []
  },
  {
   "cell_type": "code",
   "execution_count": 84,
   "metadata": {},
   "outputs": [],
   "source": [
    "'''\n",
    "This function computes the regression error values to check the\n",
    "financial crisis\n",
    "Parameters:\n",
    "year: The year of which you want to process the data\n",
    "fileName: name of the file contaning the data\n",
    "'''\n",
    "def financialCrisis(year, fileName):\n",
    "    constructcsv(fileName)\n",
    "    print(\"Process started\")\n",
    "    First_data = preprocessing(fileName)\n",
    "    #print(First_data.head())\n",
    "\n",
    "    print(\"Preprocessing done\")\n",
    "    traning_x,traning_Y,testing_X,testing_Y=dataSplit(First_data,'int_rt',year,'Q1','Q2')\n",
    "    MAE,RMS,MAPE = random_forest(traning_x,traning_Y,testing_X,testing_Y)\n",
    "    newDF.loc[len(newDF.index)]=[str('Q2')+str(year),MAE,RMS,MAPE]\n",
    "    print(\"Quarter2 done\")\n",
    "    traning_x,traning_Y,testing_X,testing_Y=dataSplit(First_data,'int_rt',year,'Q2','Q3')\n",
    "    MAE,RMS,MAPE = random_forest(traning_x,traning_Y,testing_X,testing_Y)\n",
    "    newDF.loc[len(newDF.index)]=[str('Q3')+str(year),MAE,RMS,MAPE]\n",
    "    print(\"Quarter3 done\")\n",
    "    traning_x,traning_Y,testing_X,testing_Y=dataSplit(First_data,'int_rt',year,'Q3','Q4')\n",
    "    MAE,RMS,MAPE = random_forest(traning_x,traning_Y,testing_X,testing_Y)\n",
    "    newDF.loc[len(newDF.index)]=[str('Q4')+str(year),MAE,RMS,MAPE]\n",
    "    print(\"Quarter4 done\")\n",
    "    traning_x,traning_Y,_,_=dataSplit(First_data,'int_rt',year,'Q1','Q1')\n",
    "    _,_,testing_X,testing_Y=dataSplit(First_data,'int_rt',year,'Q1','Q1')\n",
    "    MAE,RMS,MAPE = random_forest(traning_x,traning_Y,testing_X,testing_Y)\n",
    "    newDF.loc[len(newDF.index)]=[str('Q1')+str(year),MAE,RMS,MAPE]\n",
    "    print(\"Completed\",year,\"!\")\n",
    "    \n",
    "                                 \n",
    "                                 \n",
    "                             \n",
    "    \n",
    "    "
   ]
  },
  {
   "cell_type": "code",
   "execution_count": null,
   "metadata": {
    "collapsed": true
   },
   "outputs": [],
   "source": [
    "newDF = pd.DataFrame(columns=['Quarter','MAE','RMS','MAPE'])"
   ]
  },
  {
   "cell_type": "code",
   "execution_count": 85,
   "metadata": {
    "scrolled": true
   },
   "outputs": [
    {
     "name": "stdout",
     "output_type": "stream",
     "text": [
      "Process started\n",
      "Preprocessing done\n"
     ]
    },
    {
     "name": "stderr",
     "output_type": "stream",
     "text": [
      "C:\\ProgramData\\Anaconda3\\lib\\site-packages\\ipykernel_launcher.py:2: DeprecationWarning: \n",
      ".ix is deprecated. Please use\n",
      ".loc for label based indexing or\n",
      ".iloc for positional indexing\n",
      "\n",
      "See the documentation here:\n",
      "http://pandas.pydata.org/pandas-docs/stable/indexing.html#deprecate_ix\n",
      "  \n",
      "C:\\ProgramData\\Anaconda3\\lib\\site-packages\\ipykernel_launcher.py:3: DataConversionWarning: A column-vector y was passed when a 1d array was expected. Please change the shape of y to (n_samples,), for example using ravel().\n",
      "  This is separate from the ipykernel package so we can avoid doing imports until\n"
     ]
    },
    {
     "name": "stdout",
     "output_type": "stream",
     "text": [
      "MAE: 0.180190373822\n",
      "RMS: 0.23766117762145814\n",
      "MAPE: 1.39590834903\n"
     ]
    },
    {
     "data": {
      "image/png": "[encoded data removed]",
      "text/plain": [
       "<matplotlib.figure.Figure at 0x20eeb599320>"
      ]
     },
     "metadata": {},
     "output_type": "display_data"
    },
    {
     "name": "stdout",
     "output_type": "stream",
     "text": [
      "Quarter2 done\n"
     ]
    },
    {
     "name": "stderr",
     "output_type": "stream",
     "text": [
      "C:\\ProgramData\\Anaconda3\\lib\\site-packages\\ipykernel_launcher.py:2: DeprecationWarning: \n",
      ".ix is deprecated. Please use\n",
      ".loc for label based indexing or\n",
      ".iloc for positional indexing\n",
      "\n",
      "See the documentation here:\n",
      "http://pandas.pydata.org/pandas-docs/stable/indexing.html#deprecate_ix\n",
      "  \n",
      "C:\\ProgramData\\Anaconda3\\lib\\site-packages\\ipykernel_launcher.py:3: DataConversionWarning: A column-vector y was passed when a 1d array was expected. Please change the shape of y to (n_samples,), for example using ravel().\n",
      "  This is separate from the ipykernel package so we can avoid doing imports until\n"
     ]
    },
    {
     "name": "stdout",
     "output_type": "stream",
     "text": [
      "MAE: 0.395370368781\n",
      "RMS: 0.49947088349746815\n",
      "MAPE: 3.22098964475\n"
     ]
    },
    {
     "data": {
      "image/png": "[encoded data removed]",
      "text/plain": [
       "<matplotlib.figure.Figure at 0x20edacaf588>"
      ]
     },
     "metadata": {},
     "output_type": "display_data"
    },
    {
     "name": "stdout",
     "output_type": "stream",
     "text": [
      "Quarter3 done\n"
     ]
    },
    {
     "name": "stderr",
     "output_type": "stream",
     "text": [
      "C:\\ProgramData\\Anaconda3\\lib\\site-packages\\ipykernel_launcher.py:2: DeprecationWarning: \n",
      ".ix is deprecated. Please use\n",
      ".loc for label based indexing or\n",
      ".iloc for positional indexing\n",
      "\n",
      "See the documentation here:\n",
      "http://pandas.pydata.org/pandas-docs/stable/indexing.html#deprecate_ix\n",
      "  \n",
      "C:\\ProgramData\\Anaconda3\\lib\\site-packages\\ipykernel_launcher.py:3: DataConversionWarning: A column-vector y was passed when a 1d array was expected. Please change the shape of y to (n_samples,), for example using ravel().\n",
      "  This is separate from the ipykernel package so we can avoid doing imports until\n"
     ]
    },
    {
     "name": "stdout",
     "output_type": "stream",
     "text": [
      "MAE: 0.2145643829\n",
      "RMS: 0.2689299959730703\n",
      "MAPE: 1.83683673452\n"
     ]
    },
    {
     "data": {
      "image/png": "[encoded data removed]",
      "text/plain": [
       "<matplotlib.figure.Figure at 0x20edb43ac50>"
      ]
     },
     "metadata": {},
     "output_type": "display_data"
    },
    {
     "name": "stdout",
     "output_type": "stream",
     "text": [
      "Quarter4 done\n"
     ]
    },
    {
     "name": "stderr",
     "output_type": "stream",
     "text": [
      "C:\\ProgramData\\Anaconda3\\lib\\site-packages\\ipykernel_launcher.py:2: DeprecationWarning: \n",
      ".ix is deprecated. Please use\n",
      ".loc for label based indexing or\n",
      ".iloc for positional indexing\n",
      "\n",
      "See the documentation here:\n",
      "http://pandas.pydata.org/pandas-docs/stable/indexing.html#deprecate_ix\n",
      "  \n",
      "C:\\ProgramData\\Anaconda3\\lib\\site-packages\\ipykernel_launcher.py:3: DataConversionWarning: A column-vector y was passed when a 1d array was expected. Please change the shape of y to (n_samples,), for example using ravel().\n",
      "  This is separate from the ipykernel package so we can avoid doing imports until\n"
     ]
    },
    {
     "name": "stdout",
     "output_type": "stream",
     "text": [
      "MAE: 0.150880337733\n",
      "RMS: 0.1997103709880433\n",
      "MAPE: 1.12452318816\n"
     ]
    },
    {
     "data": {
      "image/png": "[encoded data removed]",
      "text/plain": [
       "<matplotlib.figure.Figure at 0x20fa3eac7f0>"
      ]
     },
     "metadata": {},
     "output_type": "display_data"
    },
    {
     "name": "stdout",
     "output_type": "stream",
     "text": [
      "Completed 2013 !\n"
     ]
    }
   ],
   "source": [
    "\n",
    "#financialCrisis(2007,\"HistoricalFinancialCrisis.csv\")\n",
    "#financialCrisis(2009,\"HistoricalFinancialCrisis.csv\")\n",
    "\n",
    "#financialCrisis(1999,\"EconomicBoom.csv\")\n",
    "#financialCrisis(2013,\"EconomicBoom.csv\")\n",
    "  "
   ]
  },
  {
   "cell_type": "code",
   "execution_count": 88,
   "metadata": {
    "collapsed": true
   },
   "outputs": [],
   "source": [
    "#with open(\"EconomicBoomResult.csv\", 'a',encoding='utf-8',newline=\"\") as f:\n",
    "#    newDF.to_csv(f,index=False,header=False)  "
   ]
  },
  {
   "cell_type": "code",
   "execution_count": 87,
   "metadata": {},
   "outputs": [
    {
     "data": {
      "text/html": [
       "<div>\n",
       "<style>\n",
       "    .dataframe thead tr:only-child th {\n",
       "        text-align: right;\n",
       "    }\n",
       "\n",
       "    .dataframe thead th {\n",
       "        text-align: left;\n",
       "    }\n",
       "\n",
       "    .dataframe tbody tr th {\n",
       "        vertical-align: top;\n",
       "    }\n",
       "</style>\n",
       "<table border=\"1\" class=\"dataframe\">\n",
       "  <thead>\n",
       "    <tr style=\"text-align: right;\">\n",
       "      <th></th>\n",
       "      <th>Quarter</th>\n",
       "      <th>MAE</th>\n",
       "      <th>RMS</th>\n",
       "      <th>MAPE</th>\n",
       "    </tr>\n",
       "  </thead>\n",
       "  <tbody>\n",
       "    <tr>\n",
       "      <th>0</th>\n",
       "      <td>Q12000</td>\n",
       "      <td>0.208241</td>\n",
       "      <td>0.286568</td>\n",
       "      <td>1.560747</td>\n",
       "    </tr>\n",
       "    <tr>\n",
       "      <th>1</th>\n",
       "      <td>Q22013</td>\n",
       "      <td>0.180190</td>\n",
       "      <td>0.237661</td>\n",
       "      <td>1.395908</td>\n",
       "    </tr>\n",
       "    <tr>\n",
       "      <th>2</th>\n",
       "      <td>Q32013</td>\n",
       "      <td>0.395370</td>\n",
       "      <td>0.499471</td>\n",
       "      <td>3.220990</td>\n",
       "    </tr>\n",
       "    <tr>\n",
       "      <th>3</th>\n",
       "      <td>Q42013</td>\n",
       "      <td>0.214564</td>\n",
       "      <td>0.268930</td>\n",
       "      <td>1.836837</td>\n",
       "    </tr>\n",
       "    <tr>\n",
       "      <th>4</th>\n",
       "      <td>Q12013</td>\n",
       "      <td>0.150880</td>\n",
       "      <td>0.199710</td>\n",
       "      <td>1.124523</td>\n",
       "    </tr>\n",
       "  </tbody>\n",
       "</table>\n",
       "</div>"
      ],
      "text/plain": [
       "  Quarter       MAE       RMS      MAPE\n",
       "0  Q12000  0.208241  0.286568  1.560747\n",
       "1  Q22013  0.180190  0.237661  1.395908\n",
       "2  Q32013  0.395370  0.499471  3.220990\n",
       "3  Q42013  0.214564  0.268930  1.836837\n",
       "4  Q12013  0.150880  0.199710  1.124523"
      ]
     },
     "execution_count": 87,
     "metadata": {},
     "output_type": "execute_result"
    }
   ],
   "source": [
    "#newDF"
   ]
  },
  {
   "cell_type": "code",
   "execution_count": null,
   "metadata": {
    "collapsed": true
   },
   "outputs": [],
   "source": []
  }
 ],
 "metadata": {
  "anaconda-cloud": {},
  "kernelspec": {
   "display_name": "Python 3",
   "language": "python",
   "name": "python3"
  },
  "language_info": {
   "codemirror_mode": {
    "name": "ipython",
    "version": 3
   },
   "file_extension": ".py",
   "mimetype": "text/x-python",
   "name": "python",
   "nbconvert_exporter": "python",
   "pygments_lexer": "ipython3",
   "version": "3.6.8"
  }
 },
 "nbformat": 4,
 "nbformat_minor": 2
}
